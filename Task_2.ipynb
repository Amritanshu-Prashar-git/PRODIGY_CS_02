from PIL import Image
import numpy as np

def encrypt_image(image_path, key):
    # Open the image
    image = Image.open(image_path)
    # Convert the image to a numpy array
    image_array = np.array(image)
    # Encrypt each pixel value
    encrypted_image_array = image_array + key
    # Create a new image from the encrypted pixel values
    encrypted_image = Image.fromarray(encrypted_image_array.astype('uint8'))
    # Save the encrypted image
    encrypted_image.save("encrypted_image.png")

def decrypt_image(encrypted_image_path, key):
    # Open the encrypted image
    encrypted_image = Image.open(encrypted_image_path)
    # Convert the encrypted image to a numpy array
    encrypted_image_array = np.array(encrypted_image)
    # Decrypt each pixel value
    decrypted_image_array = encrypted_image_array - key
    # Create a new image from the decrypted pixel values
    decrypted_image = Image.fromarray(decrypted_image_array.astype('uint8'))
    # Save the decrypted image
    decrypted_image.save("decrypted_image.png")

image_path = "example_image.png"
key = 575673575373537537  # Encryption/decryption key
encrypt_image(image_path, key)
encrypted_image_path = "encrypted_image.png"
decrypt_image(encrypted_image_path, key)
